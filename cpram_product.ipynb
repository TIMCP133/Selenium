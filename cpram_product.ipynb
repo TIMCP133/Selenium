{
 "cells": [
  {
   "cell_type": "code",
   "execution_count": 1,
   "id": "cbd9245f",
   "metadata": {},
   "outputs": [],
   "source": [
    "import re\n",
    "import time\n",
    "import subprocess\n",
    "import pandas as pd\n",
    "from selenium import webdriver\n",
    "from IPython.display import display, HTML\n",
    "from selenium.webdriver.common.by import By\n",
    "from selenium.webdriver.common.keys import Keys\n",
    "from selenium.webdriver.support.ui import Select\n",
    "from selenium.webdriver.chrome.service import Service\n",
    "from selenium.webdriver.chrome.options import Options\n",
    "from selenium.webdriver.support.ui import WebDriverWait\n",
    "from webdriver_manager.chrome import ChromeDriverManager\n",
    "from selenium.webdriver.support import expected_conditions as EC\n",
    "from selenium.webdriver.common.action_chains import ActionChains\n",
    "\n",
    "\n",
    "options = webdriver.ChromeOptions()\n",
    "options.add_argument(\"--no-sandbox\")\n",
    "options.add_argument(\"--start-maximized\")\n",
    "options.add_argument(\"--disable-dev-shm-usage\")\n",
    "options.add_argument(\"--headless=new\")"
   ]
  },
  {
   "cell_type": "code",
   "execution_count": 4,
   "id": "b80352d2",
   "metadata": {},
   "outputs": [],
   "source": [
    "output = subprocess.run(\n",
    "    [\"/Applications/Google Chrome.app/Contents/MacOS/Google Chrome\", \"--version\"],\n",
    "    capture_output=True,\n",
    "    text=True\n",
    ").stdout.strip()\n",
    "\n",
    "version_number = re.search(r\"(\\d+\\.\\d+\\.\\d+)\", output)\n",
    "chrome_version = version_number.group(1)"
   ]
  },
  {
   "cell_type": "code",
   "execution_count": 5,
   "id": "77de70f8",
   "metadata": {},
   "outputs": [],
   "source": [
    "driver = webdriver.Chrome(service=Service(ChromeDriverManager(driver_version=chrome_version).install()), options=options)\n",
    "driver.get(\"https://www.cpram.co.th/th/product\")\n",
    "time.sleep(3)\n",
    "driver.quit()"
   ]
  },
  {
   "cell_type": "code",
   "execution_count": 9,
   "id": "ddb87643",
   "metadata": {},
   "outputs": [
    {
     "data": {
      "text/plain": [
       "[]"
      ]
     },
     "execution_count": 9,
     "metadata": {},
     "output_type": "execute_result"
    }
   ],
   "source": [
    "driver = webdriver.Chrome(service=Service(ChromeDriverManager(driver_version=chrome_version).install()), options=options)\n",
    "driver.get(\"https://www.cpram.co.th/th/product\")\n",
    "time.sleep(3)\n",
    "\n",
    "# --- Use JS to get all <a> inside <ul class='submenu-list product-menu'> ---\n",
    "a_elements = driver.find_elements(\n",
    "    By.CSS_SELECTOR,\n",
    "    \"ul.submenu-list.product-menu li a\"\n",
    ")\n",
    "\n",
    "# --- Extract span text and href ---\n",
    "results = []\n",
    "for a in a_elements:\n",
    "    try:\n",
    "        name = a.find_element(By.TAG_NAME, \"span\").text.strip()\n",
    "        href = a.get_attribute(\"href\")\n",
    "        if name and href:\n",
    "            results.append({\"name\": name, \"url\": href})\n",
    "    except:\n",
    "        continue\n",
    "\n",
    "driver.quit()\n",
    "\n",
    "results"
   ]
  },
  {
   "cell_type": "code",
   "execution_count": null,
   "id": "ce4034d2",
   "metadata": {},
   "outputs": [],
   "source": [
    "driver = webdriver.Chrome(service=Service(ChromeDriverManager(driver_version=chrome_version).install()), options=options)\n",
    "driver.get(\"https://www.cpram.co.th/th/product\")\n",
    "\n",
    "# Wait for the menu bar to load\n",
    "WebDriverWait(driver, 10).until(\n",
    "    EC.presence_of_element_located((By.CSS_SELECTOR, \"nav\"))\n",
    ")\n",
    "\n",
    "# Hover over the main Product menu to trigger submenu\n",
    "product_menu = driver.find_element(By.CSS_SELECTOR, \"a[href='/th/product']\")\n",
    "ActionChains(driver).move_to_element(product_menu).perform()\n",
    "\n",
    "# Wait for submenu to appear\n",
    "WebDriverWait(driver, 10).until(\n",
    "    EC.presence_of_all_elements_located((By.CSS_SELECTOR, \"ul.submenu-list.product-menu li a\"))\n",
    ")\n",
    "\n",
    "# Now get the submenu links\n",
    "a_elements = driver.find_elements(By.CSS_SELECTOR, \"ul.submenu-list.product-menu li a\")\n",
    "\n",
    "results = []\n",
    "for a in a_elements:\n",
    "    try:\n",
    "        name = a.find_element(By.TAG_NAME, \"span\").text.strip()\n",
    "        href = a.get_attribute(\"href\")\n",
    "        if name and href:\n",
    "            results.append({\"name\": name, \"url\": href})\n",
    "    except:\n",
    "        continue\n",
    "\n",
    "driver.quit()\n",
    "\n",
    "print(results)"
   ]
  }
 ],
 "metadata": {
  "kernelspec": {
   "display_name": "my_new_selenium (3.13.5)",
   "language": "python",
   "name": "python3"
  },
  "language_info": {
   "codemirror_mode": {
    "name": "ipython",
    "version": 3
   },
   "file_extension": ".py",
   "mimetype": "text/x-python",
   "name": "python",
   "nbconvert_exporter": "python",
   "pygments_lexer": "ipython3",
   "version": "3.13.5"
  }
 },
 "nbformat": 4,
 "nbformat_minor": 5
}
