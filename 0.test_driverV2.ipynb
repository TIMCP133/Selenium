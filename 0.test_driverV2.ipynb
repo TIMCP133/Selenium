{
 "cells": [
  {
   "cell_type": "code",
   "execution_count": 2,
   "id": "3aea1c24",
   "metadata": {},
   "outputs": [
    {
     "name": "stdout",
     "output_type": "stream",
     "text": [
      "Google Chrome 141.0.7390.55 \n"
     ]
    }
   ],
   "source": [
    "!\"/Applications/Google Chrome.app/Contents/MacOS/Google Chrome\" --version"
   ]
  },
  {
   "cell_type": "code",
   "execution_count": 3,
   "id": "35d1bdee",
   "metadata": {},
   "outputs": [
    {
     "name": "stdout",
     "output_type": "stream",
     "text": [
      "✅ Chrome version number: 141.0.7390.55\n"
     ]
    }
   ],
   "source": [
    "import subprocess\n",
    "import re\n",
    "\n",
    "# Run the command and capture output\n",
    "output = subprocess.run(\n",
    "    [\"/Applications/Google Chrome.app/Contents/MacOS/Google Chrome\", \"--version\"],\n",
    "    capture_output=True,\n",
    "    text=True\n",
    ").stdout.strip()\n",
    "\n",
    "# Extract only numbers (and dots)\n",
    "version_number = re.search(r\"(\\d+\\.\\d+\\.\\d+\\.\\d+)\", output)\n",
    "if version_number:\n",
    "    chrome_version = version_number.group(1)\n",
    "    print(\"✅ Chrome version number:\", chrome_version)\n",
    "else:\n",
    "    print(\"❌ Could not find Chrome version number in output:\", output)\n"
   ]
  },
  {
   "cell_type": "code",
   "execution_count": 6,
   "id": "95ad80ce",
   "metadata": {},
   "outputs": [
    {
     "name": "stdout",
     "output_type": "stream",
     "text": [
      "✅ Detected Chrome version: 141.0.7390\n",
      "✅ ChromeDriver version: ChromeDriver 141.0.7390.54 (b95610d5c4a562d9cd834bc0a098d3316e2f533f-refs/branch-heads/7390@{#2013})\n",
      "✅ Chrome browser version: 141.0.7390.55\n"
     ]
    }
   ],
   "source": [
    "import subprocess\n",
    "import re\n",
    "from selenium import webdriver\n",
    "from selenium.webdriver.chrome.service import Service\n",
    "from webdriver_manager.chrome import ChromeDriverManager\n",
    "\n",
    "# 1️⃣ Get installed Chrome version\n",
    "output = subprocess.run(\n",
    "    [\"/Applications/Google Chrome.app/Contents/MacOS/Google Chrome\", \"--version\"],\n",
    "    capture_output=True,\n",
    "    text=True\n",
    ").stdout.strip()\n",
    "\n",
    "version_match = re.search(r\"(\\d+\\.\\d+\\.\\d+)\", output)  # first three numbers only\n",
    "if version_match:\n",
    "    chrome_version = version_match.group(1)\n",
    "    print(\"✅ Detected Chrome version:\", chrome_version)\n",
    "else:\n",
    "    raise Exception(\"❌ Could not detect Chrome version\")\n",
    "\n",
    "# 2️⃣ Setup ChromeDriver with matching version\n",
    "service = Service(ChromeDriverManager(driver_version=chrome_version).install())\n",
    "driver = webdriver.Chrome(service=service)\n",
    "\n",
    "# 3️⃣ Print ChromeDriver version\n",
    "chromedriver_path = service.path\n",
    "driver_version_output = subprocess.run(\n",
    "    [chromedriver_path, \"--version\"],\n",
    "    capture_output=True,\n",
    "    text=True\n",
    ")\n",
    "print(\"✅ ChromeDriver version:\", driver_version_output.stdout.strip())\n",
    "\n",
    "# 4️⃣ Print Chrome browser version\n",
    "browser_version = driver.capabilities.get(\"browserVersion\")\n",
    "print(\"✅ Chrome browser version:\", browser_version)\n",
    "\n",
    "# 5️⃣ Clean up\n",
    "driver.quit()\n"
   ]
  }
 ],
 "metadata": {
  "kernelspec": {
   "display_name": "my_new_selenium (3.13.5)",
   "language": "python",
   "name": "python3"
  },
  "language_info": {
   "codemirror_mode": {
    "name": "ipython",
    "version": 3
   },
   "file_extension": ".py",
   "mimetype": "text/x-python",
   "name": "python",
   "nbconvert_exporter": "python",
   "pygments_lexer": "ipython3",
   "version": "3.13.5"
  }
 },
 "nbformat": 4,
 "nbformat_minor": 5
}
