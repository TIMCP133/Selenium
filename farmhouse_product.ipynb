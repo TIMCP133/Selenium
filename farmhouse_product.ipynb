{
 "cells": [
  {
   "cell_type": "code",
   "execution_count": 5,
   "id": "50a14aea",
   "metadata": {},
   "outputs": [],
   "source": [
    "import re\n",
    "import time\n",
    "import subprocess\n",
    "import pandas as pd\n",
    "from selenium import webdriver\n",
    "from IPython.display import display, HTML\n",
    "from selenium.webdriver.common.by import By\n",
    "from selenium.webdriver.common.keys import Keys\n",
    "from selenium.webdriver.support.ui import Select\n",
    "from selenium.webdriver.chrome.service import Service\n",
    "from selenium.webdriver.chrome.options import Options\n",
    "from selenium.webdriver.support.ui import WebDriverWait\n",
    "from webdriver_manager.chrome import ChromeDriverManager\n",
    "from selenium.webdriver.support import expected_conditions as EC\n",
    "from selenium.webdriver.common.action_chains import ActionChains\n",
    "\n",
    "\n",
    "options = webdriver.ChromeOptions()\n",
    "options.add_argument(\"--no-sandbox\")\n",
    "options.add_argument(\"--start-maximized\")\n",
    "options.add_argument(\"--disable-dev-shm-usage\")\n",
    "options.add_argument(\"--headless=new\")"
   ]
  },
  {
   "cell_type": "code",
   "execution_count": 2,
   "id": "85756f01",
   "metadata": {},
   "outputs": [],
   "source": [
    "output = subprocess.run(\n",
    "    [\"/Applications/Google Chrome.app/Contents/MacOS/Google Chrome\", \"--version\"],\n",
    "    capture_output=True,\n",
    "    text=True\n",
    ").stdout.strip()\n",
    "\n",
    "version_number = re.search(r\"(\\d+\\.\\d+\\.\\d+)\", output)\n",
    "chrome_version = version_number.group(1)"
   ]
  },
  {
   "cell_type": "code",
   "execution_count": 3,
   "id": "1ff31407",
   "metadata": {},
   "outputs": [],
   "source": [
    "driver = webdriver.Chrome(service=Service(ChromeDriverManager(driver_version=chrome_version).install()), options=options)\n",
    "driver.get(\"https://www.farmhouse.co.th/our-product?categories=all\")\n",
    "time.sleep(3)\n",
    "driver.quit()"
   ]
  },
  {
   "cell_type": "code",
   "execution_count": null,
   "id": "c6cd9fa7",
   "metadata": {},
   "outputs": [],
   "source": [
    "driver = webdriver.Chrome(service=Service(ChromeDriverManager(driver_version=chrome_version).install()), options=options)\n",
    "# Optional: wait up to 60s for page load\n",
    "#driver.set_page_load_timeout(60)\n",
    "driver.get(\"https://www.farmhouse.co.th/our-product?categories=all\")\n",
    "time.sleep(3)\n",
    "\n",
    "# Find all <li> elements with role=\"presentation\"\n",
    "#li_elements = driver.find_elements(By.CSS_SELECTOR, \"li[role='presentation'] a\")\n",
    "\n",
    "# --- Explicit wait: wait until <li role='presentation'> elements are present ---\n",
    "try:\n",
    "    li_elements = WebDriverWait(driver, 300).until(\n",
    "        EC.presence_of_all_elements_located((By.CSS_SELECTOR, \"li[role='presentation'] a\"))\n",
    "    )\n",
    "except:\n",
    "    print(\"Timeout: elements did not load in 300 seconds\")\n",
    "    li_elements = []\n",
    "\n",
    "product_categories = []\n",
    "for a in li_elements:\n",
    "    title_value = a.get_attribute(\"title\")\n",
    "    if title_value:  # make sure it's not empty\n",
    "        product_categories.append(title_value)\n",
    "\n",
    "driver.quit()\n",
    "\n",
    "print(product_categories)"
   ]
  }
 ],
 "metadata": {
  "kernelspec": {
   "display_name": "my_new_selenium (3.13.5)",
   "language": "python",
   "name": "python3"
  },
  "language_info": {
   "codemirror_mode": {
    "name": "ipython",
    "version": 3
   },
   "file_extension": ".py",
   "mimetype": "text/x-python",
   "name": "python",
   "nbconvert_exporter": "python",
   "pygments_lexer": "ipython3",
   "version": "3.13.5"
  }
 },
 "nbformat": 4,
 "nbformat_minor": 5
}
